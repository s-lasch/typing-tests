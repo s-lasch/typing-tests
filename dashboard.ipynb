{
 "cells": [
  {
   "cell_type": "code",
   "execution_count": null,
   "id": "99d3cf9d-a448-470a-8c16-f6f88275c4a7",
   "metadata": {},
   "outputs": [],
   "source": [
    "import pandas as pd\n",
    "import plotly.express as px\n",
    "import collection\n",
    "import plots"
   ]
  },
  {
   "cell_type": "code",
   "execution_count": null,
   "id": "9da9a793-3b92-423e-97a5-ae99acdb86f9",
   "metadata": {},
   "outputs": [],
   "source": [
    "filename = 'results.csv'"
   ]
  },
  {
   "cell_type": "markdown",
   "id": "61ebb13a-6468-463c-81de-67b5bcd51351",
   "metadata": {},
   "source": [
    "# **Get Data**\n",
    "***"
   ]
  },
  {
   "cell_type": "code",
   "execution_count": null,
   "id": "63b9c142-afe8-4ff9-a54b-41057c16d6cd",
   "metadata": {},
   "outputs": [],
   "source": [
    "collection.get_data()\n",
    "collection.switch_delimiter(filename=filename, delimiter_to=',', delimiter_from='|')"
   ]
  },
  {
   "cell_type": "markdown",
   "id": "d34aa21f-5872-423e-b8d6-43c489dfa427",
   "metadata": {},
   "source": [
    "# **Make Plots**\n",
    "***"
   ]
  },
  {
   "cell_type": "code",
   "execution_count": null,
   "id": "8762e1c1-1425-4231-909c-cc56c7b1c7f0",
   "metadata": {},
   "outputs": [],
   "source": [
    "df = pd.read_csv(filename)"
   ]
  },
  {
   "cell_type": "code",
   "execution_count": null,
   "id": "3edaa59d-5a47-4860-878a-25d2f63583e4",
   "metadata": {},
   "outputs": [],
   "source": [
    "pie = plots.pie(df)\n",
    "wpm = plots.box(df, 'wpm', 'wpm')\n",
    "sun = plots.sun(df)"
   ]
  },
  {
   "cell_type": "markdown",
   "id": "5eacd8ef-861f-47d4-8c66-b30536bcb763",
   "metadata": {},
   "source": [
    "# **Dashboard**\n",
    "***"
   ]
  },
  {
   "cell_type": "code",
   "execution_count": null,
   "id": "f5965a87-d976-44b2-8bac-7c510e8eeaea",
   "metadata": {},
   "outputs": [],
   "source": [
    "import plotly.graph_objects as go\n",
    "\n",
    "from jupyter_dash import JupyterDash\n",
    "from dash import Dash, callback, html, dcc, Input, Output\n",
    "\n",
    "df = pd.read_csv(filename)\n",
    "\n",
    "app = JupyterDash('Monkeytype Visualizations')\n",
    "\n",
    "app.layout = html.Div(id='content', children=[\n",
    "    html.Div(id='header', children=[\n",
    "        dcc.Markdown('''\n",
    "        # **Monkeytype Data Visualization**\n",
    "        ### **Data:** \n",
    "        Obtained from https://monkeytype.com\n",
    "        ''')\n",
    "    ]),\n",
    "    html.Hr(),\n",
    "    dcc.Graph(id='pie', figure=pie),\n",
    "    html.Div(id='boxplot', children=[\n",
    "        dcc.Graph(id='box', figure=wpm),\n",
    "        dcc.Dropdown(id='box-type',\n",
    "                     options=[{'label':col, 'value':col} for col in df.columns[2:6]],\n",
    "                     value='wpm'),\n",
    "        html.Br(),\n",
    "        html.Br()\n",
    "    ]),\n",
    "    dcc.Graph(id='sun-burst', figure=sun)\n",
    "])\n",
    "\n",
    "@app.callback(\n",
    "    Output('box', 'figure'),\n",
    "    Input('box-type', 'value'))\n",
    "def update_boxes(col):\n",
    "    title = 'raw wpm' if col == 'rawWpm' else col\n",
    "    title = 'accuracy' if col == 'acc' else title\n",
    "    return plots.box(df, title, col)\n",
    "\n",
    "app.run_server(mode='external')"
   ]
  },
  {
   "cell_type": "code",
   "execution_count": null,
   "id": "4f70987f-ad36-4f01-9688-4ce3f5885c5f",
   "metadata": {},
   "outputs": [],
   "source": []
  }
 ],
 "metadata": {
  "kernelspec": {
   "display_name": "Python 3 (ipykernel)",
   "language": "python",
   "name": "python3"
  },
  "language_info": {
   "codemirror_mode": {
    "name": "ipython",
    "version": 3
   },
   "file_extension": ".py",
   "mimetype": "text/x-python",
   "name": "python",
   "nbconvert_exporter": "python",
   "pygments_lexer": "ipython3",
   "version": "3.9.7"
  }
 },
 "nbformat": 4,
 "nbformat_minor": 5
}
